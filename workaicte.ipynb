{
 "cells": [
  {
   "cell_type": "code",
   "execution_count": 1,
   "id": "19e58c89",
   "metadata": {},
   "outputs": [
    {
     "name": "stdout",
     "output_type": "stream",
     "text": [
      "Welcome to the Number Guessing Game!\n",
      "Guess the secret number between 1 and 100. You have 5 attempts.\n",
      "Enter your guess: 96\n",
      "Try a lower number.\n",
      "Enter your guess: 22\n",
      "Try a higher number.\n",
      "Enter your guess: 25\n",
      "Try a higher number.\n",
      "Enter your guess: 50\n",
      "Try a higher number.\n",
      "Enter your guess: 85\n",
      "Try a higher number.\n",
      "Sorry, you've used all your attempts. The secret number was 89.\n",
      "Thanks for playing!\n"
     ]
    }
   ],
   "source": [
    "import random\n",
    "\n",
    "# Generate a random number between 1 and 100\n",
    "secret_number = random.randint(1, 100)\n",
    "\n",
    "# Set the number of attempts\n",
    "max_attempts = 5\n",
    "attempts = 0\n",
    "\n",
    "print(\"Welcome to the Number Guessing Game!\")\n",
    "print(f\"Guess the secret number between 1 and 100. You have {max_attempts} attempts.\")\n",
    "\n",
    "# Game loop\n",
    "while attempts < max_attempts:\n",
    "    try:\n",
    "        # Get the player's guess\n",
    "        guess = int(input(\"Enter your guess: \"))\n",
    "        \n",
    "        # Increment the attempts counter\n",
    "        attempts += 1\n",
    "        \n",
    "        # Check if the guess is correct\n",
    "        if guess == secret_number:\n",
    "            print(f\"Congratulations! You guessed the secret number {secret_number} in {attempts} attempts.\")\n",
    "            break\n",
    "        elif guess < secret_number:\n",
    "            print(\"Try a higher number.\")\n",
    "        else:\n",
    "            print(\"Try a lower number.\")\n",
    "        \n",
    "        # Check if the player has used all attempts\n",
    "        if attempts == max_attempts:\n",
    "            print(f\"Sorry, you've used all your attempts. The secret number was {secret_number}.\")\n",
    "    \n",
    "    except ValueError:\n",
    "        print(\"Invalid input. Please enter a valid number.\")\n",
    "\n",
    "print(\"Thanks for playing!\")"
   ]
  },
  {
   "cell_type": "code",
   "execution_count": 9,
   "id": "0120846b",
   "metadata": {},
   "outputs": [
    {
     "name": "stdout",
     "output_type": "stream",
     "text": [
      "Defaulting to user installation because normal site-packages is not writeable\n",
      "Requirement already satisfied: BeautifulSoup4 in c:\\programdata\\anaconda3\\lib\\site-packages (4.11.1)\n",
      "Requirement already satisfied: soupsieve>1.2 in c:\\programdata\\anaconda3\\lib\\site-packages (from BeautifulSoup4) (2.3.2.post1)\n",
      "Note: you may need to restart the kernel to use updated packages.\n"
     ]
    }
   ],
   "source": [
    "pip install BeautifulSoup4 "
   ]
  },
  {
   "cell_type": "code",
   "execution_count": 1,
   "id": "5405e9e9",
   "metadata": {},
   "outputs": [
    {
     "name": "stdout",
     "output_type": "stream",
     "text": [
      "Defaulting to user installation because normal site-packages is not writeable\n",
      "Requirement already satisfied: requests in c:\\programdata\\anaconda3\\lib\\site-packages (2.28.1)\n",
      "Requirement already satisfied: certifi>=2017.4.17 in c:\\programdata\\anaconda3\\lib\\site-packages (from requests) (2022.12.7)\n",
      "Requirement already satisfied: charset-normalizer<3,>=2 in c:\\programdata\\anaconda3\\lib\\site-packages (from requests) (2.0.4)\n",
      "Requirement already satisfied: urllib3<1.27,>=1.21.1 in c:\\programdata\\anaconda3\\lib\\site-packages (from requests) (1.26.14)\n",
      "Requirement already satisfied: idna<4,>=2.5 in c:\\programdata\\anaconda3\\lib\\site-packages (from requests) (3.4)\n",
      "Note: you may need to restart the kernel to use updated packages.\n"
     ]
    }
   ],
   "source": [
    "pip install requests"
   ]
  },
  {
   "cell_type": "code",
   "execution_count": 2,
   "id": "8cccf611",
   "metadata": {},
   "outputs": [
    {
     "name": "stdout",
     "output_type": "stream",
     "text": [
      "Weather data elements not found on the page.\n"
     ]
    }
   ],
   "source": [
    "import requests\n",
    "from bs4 import BeautifulSoup\n",
    "import csv\n",
    "\n",
    "# URL of the weather website\n",
    "url = 'https://weather.com/en-IN/weather/tenday/l/INKA0344:1:IN'\n",
    "\n",
    "# Send an HTTP GET request to the website\n",
    "response = requests.get(url)\n",
    "\n",
    "# Check if the request was successful\n",
    "if response.status_code == 200:\n",
    "    # Parse the HTML content of the page\n",
    "    soup = BeautifulSoup(response.text, 'html.parser')\n",
    "    \n",
    "    # Locate and extract the weather data\n",
    "    temperature_element = soup.find('span', class_='temperature')\n",
    "    humidity_element = soup.find('span', class_='humidity')\n",
    "    \n",
    "    # Check if the elements were found before accessing .text\n",
    "    if temperature_element is not None and humidity_element is not None:\n",
    "        temperature = temperature_element.text\n",
    "        humidity = humidity_element.text\n",
    "\n",
    "        # Create a list with the extracted data\n",
    "        weather_data = [temperature, humidity]\n",
    "        \n",
    "        # Define the CSV filename\n",
    "        csv_filename = 'weather_data.csv'\n",
    "        \n",
    "        # Write the data to a CSV file\n",
    "        with open(csv_filename, 'w', newline='') as csv_file:\n",
    "            csv_writer = csv.writer(csv_file)\n",
    "            csv_writer.writerow(['Temperature (°C)', 'Humidity (%)'])\n",
    "            csv_writer.writerow(weather_data)\n",
    "        \n",
    "        print(f\"Weather data saved in {csv_filename}\")\n",
    "    else:\n",
    "        print(\"Weather data elements not found on the page.\")\n",
    "else:\n",
    "    print(\"Failed to retrieve data from the website.\")\n"
   ]
  },
  {
   "cell_type": "code",
   "execution_count": null,
   "id": "7c8baea2",
   "metadata": {},
   "outputs": [],
   "source": []
  }
 ],
 "metadata": {
  "kernelspec": {
   "display_name": "Python 3 (ipykernel)",
   "language": "python",
   "name": "python3"
  },
  "language_info": {
   "codemirror_mode": {
    "name": "ipython",
    "version": 3
   },
   "file_extension": ".py",
   "mimetype": "text/x-python",
   "name": "python",
   "nbconvert_exporter": "python",
   "pygments_lexer": "ipython3",
   "version": "3.10.9"
  }
 },
 "nbformat": 4,
 "nbformat_minor": 5
}
